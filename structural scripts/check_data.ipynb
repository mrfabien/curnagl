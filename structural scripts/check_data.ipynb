{
 "cells": [
  {
   "cell_type": "code",
   "execution_count": 1,
   "metadata": {},
   "outputs": [
    {
     "name": "stdout",
     "output_type": "stream",
     "text": [
      "All 384 files are present.\n"
     ]
    }
   ],
   "source": [
    "# this script is to check if there is 12 months in each year from 1990 to 2021 in the folder of the data\n",
    "\n",
    "import os\n",
    "import re\n",
    "from collections import defaultdict\n",
    "\n",
    "def check_files(folder_path):\n",
    "    # Define the expected number of files\n",
    "    expected_file_count = 32 * 12\n",
    "\n",
    "    # Create a regular expression to extract the year and month from file names\n",
    "    file_pattern = re.compile(r\"ERA5_(\\d{4})-(\\d{1,2})_.*\\.nc\")\n",
    "\n",
    "    # Create a set to store found months\n",
    "    found_months = defaultdict(set)\n",
    "\n",
    "    # Iterate through files in the folder\n",
    "    for filename in os.listdir(folder_path):\n",
    "        match = file_pattern.match(filename)\n",
    "        if match:\n",
    "            year, month = match.groups()\n",
    "            found_months[int(year)].add(int(month))\n",
    "\n",
    "    # Check if the total file count matches the expected count\n",
    "    total_files = sum(len(months) for months in found_months.values())\n",
    "    if total_files == expected_file_count:\n",
    "        print(f\"All {expected_file_count} files are present.\")\n",
    "    else:\n",
    "        print(f\"Expected {expected_file_count} files, but found {total_files}.\")\n",
    "        \n",
    "        # Identify missing months\n",
    "        missing_months = []\n",
    "        for year in range(min(found_months.keys()), max(found_months.keys()) + 1):\n",
    "            if year not in found_months:\n",
    "                missing_months.append(f\"{year}-ALL\")\n",
    "            else:\n",
    "                for month in range(1, 13):\n",
    "                    if month not in found_months[year]:\n",
    "                        missing_months.append(f\"{year}-{month}\")\n",
    "        \n",
    "        if missing_months:\n",
    "            print(\"Missing months or years:\")\n",
    "            for item in missing_months:\n",
    "                print(item)\n",
    "        else:\n",
    "            print(\"No specific months or years missing, possible file count mismatch due to duplicate or extra files.\")\n",
    "\n",
    "# Replace 'your_folder_path' with the actual path to your folder\n",
    "\n",
    "var = 'specific_rain_water_content'\n",
    "\n",
    "folder_path = f'/work/FAC/FGSE/IDYST/tbeucler/default/raw_data/ECMWF/ERA5/PL/{var}'\n",
    "check_files(folder_path)\n"
   ]
  }
 ],
 "metadata": {
  "kernelspec": {
   "display_name": "Python 3 (ipykernel)",
   "language": "python",
   "name": "python3"
  },
  "language_info": {
   "codemirror_mode": {
    "name": "ipython",
    "version": 3
   },
   "file_extension": ".py",
   "mimetype": "text/x-python",
   "name": "python",
   "nbconvert_exporter": "python",
   "pygments_lexer": "ipython3",
   "version": "3.9.16"
  }
 },
 "nbformat": 4,
 "nbformat_minor": 2
}
