{
 "cells": [
  {
   "cell_type": "code",
   "execution_count": 8,
   "metadata": {},
   "outputs": [],
   "source": [
    "import os\n",
    "import fnmatch\n",
    "\n",
    "# Définir le répertoire de travail\n",
    "directory = '/Users/fabienaugsburger/Downloads/datasets'\n",
    "\n",
    "# Parcourir tous les fichiers dans le répertoire et ses sous-répertoires\n",
    "for dirpath, dirnames, filenames in os.walk(directory):\n",
    "    for filename in filenames:\n",
    "        # Vérifier si le fichier est un .csv et ne se termine pas par '_0.csv'\n",
    "        if fnmatch.fnmatch(filename, '*.csv') and not (fnmatch.fnmatch(filename, '*_0.csv') or fnmatch.fnmatch(filename, '*_500.csv') or fnmatch.fnmatch(filename,'*_1000.csv')):\n",
    "            # Construire le chemin complet du fichier\n",
    "            file_path = os.path.join(dirpath, filename)\n",
    "            # Supprimer le fichier\n",
    "            os.remove(file_path)"
   ]
  }
 ],
 "metadata": {
  "kernelspec": {
   "display_name": "master",
   "language": "python",
   "name": "python3"
  },
  "language_info": {
   "codemirror_mode": {
    "name": "ipython",
    "version": 3
   },
   "file_extension": ".py",
   "mimetype": "text/x-python",
   "name": "python",
   "nbconvert_exporter": "python",
   "pygments_lexer": "ipython3",
   "version": "3.11.9"
  }
 },
 "nbformat": 4,
 "nbformat_minor": 2
}
