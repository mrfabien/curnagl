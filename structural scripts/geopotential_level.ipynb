{
 "cells": [
  {
   "cell_type": "code",
   "execution_count": 2,
   "metadata": {},
   "outputs": [],
   "source": [
    "import xarray as xr\n",
    "import pandas as pd\n",
    "import glob\n",
    "\n",
    "# Define the years and levels you are interested in\n",
    "years = range(1992, 1994)\n",
    "levels = [500, 1000]\n",
    "\n",
    "# Get a list of all the files for the years 1990 to 1993\n",
    "files = []\n",
    "for year in years:\n",
    "    for month in range(1, 13):\n",
    "        files.extend(glob.glob(f'/work/FAC/FGSE/IDYST/tbeucler/default/raw_data/ECMWF/ERA5_hourly_PL/prov/ERA5_{year}-{month}_geopotential.nc'))\n",
    "\n",
    "# Open the files, select the levels, and save the result\n",
    "for file in files:\n",
    "    ds = xr.open_dataset(file)\n",
    "    ds_sel = ds.sel(level=levels)\n",
    "    ds_sel.to_netcdf(file.replace('.nc', '_selected.nc'))"
   ]
  },
  {
   "cell_type": "code",
   "execution_count": 3,
   "metadata": {},
   "outputs": [],
   "source": [
    "import os\n",
    "import glob\n",
    "\n",
    "# Get a list of all the files with '_selected' in their names\n",
    "files = glob.glob('/work/FAC/FGSE/IDYST/tbeucler/default/raw_data/ECMWF/ERA5_hourly_PL/geopotential/*_selected.nc')\n",
    "\n",
    "# Rename the files to remove '_selected'\n",
    "for file in files:\n",
    "    new_name = file.replace('_selected', '')\n",
    "    os.rename(file, new_name)"
   ]
  }
 ],
 "metadata": {
  "kernelspec": {
   "display_name": "Python 3 (ipykernel)",
   "language": "python",
   "name": "python3"
  },
  "language_info": {
   "codemirror_mode": {
    "name": "ipython",
    "version": 3
   },
   "file_extension": ".py",
   "mimetype": "text/x-python",
   "name": "python",
   "nbconvert_exporter": "python",
   "pygments_lexer": "ipython3",
   "version": "3.9.16"
  }
 },
 "nbformat": 4,
 "nbformat_minor": 2
}
