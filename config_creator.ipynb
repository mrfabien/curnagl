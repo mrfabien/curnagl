{
 "cells": [
  {
   "cell_type": "code",
   "execution_count": 1,
   "metadata": {},
   "outputs": [],
   "source": [
    "import csv\n",
    "\n",
    "variable_path = '/work/FAC/FGSE/IDYST/tbeucler/default/fabien/repos/curnagl/variable_list_24_wo_qm.csv'\n",
    "years_to_exclude = [2003, 2012, 2018]\n",
    "variable_to_exclude = ['land_sea_mask']\n",
    "\n",
    "# Function to generate the config file\n",
    "def generate_config(csv_file, config_file):\n",
    "    with open(csv_file, 'r') as csv_file:\n",
    "        reader = csv.reader(csv_file)\n",
    "        variables = [row[0].strip() for row in reader]  # Strip whitespace from variable names\n",
    "\n",
    "    with open(config_file, 'w') as config:\n",
    "        config.write(\"ArrayTaskID Nom_dossier Année Level\\n\")  # Header line\n",
    "        index = 1\n",
    "        for variable in variables:\n",
    "            if variable not in variable_to_exclude:\n",
    "                if variable == 'geopotential':\n",
    "                    for level in [500, 1000]:\n",
    "                        for year in range(1990, 2022):\n",
    "                            if year not in years_to_exclude:\n",
    "                                config.write(f\"{index} {variable} {year} {level}\\n\")\n",
    "                                index += 1\n",
    "                else:\n",
    "                    for year in range(1990, 2022):\n",
    "                        if year not in years_to_exclude:\n",
    "                            config.write(f\"{index} {variable} {year} 0\\n\")\n",
    "                            index += 1\n",
    "    \n",
    "generate_config(variable_path, 'config_test.txt')\n"
   ]
  }
 ],
 "metadata": {
  "kernelspec": {
   "display_name": "Python 3 (ipykernel)",
   "language": "python",
   "name": "python3"
  },
  "language_info": {
   "codemirror_mode": {
    "name": "ipython",
    "version": 3
   },
   "file_extension": ".py",
   "mimetype": "text/x-python",
   "name": "python",
   "nbconvert_exporter": "python",
   "pygments_lexer": "ipython3",
   "version": "3.9.16"
  }
 },
 "nbformat": 4,
 "nbformat_minor": 2
}
